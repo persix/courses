{
 "cells": [
  {
   "cell_type": "markdown",
   "id": "ccf474e7",
   "metadata": {},
   "source": [
    "# data-hub:\n",
    "\n",
    "*   [Website](https://data-hub.ir/)\n",
    "*   [Youtube](https://www.youtube.com/channel/UCrBcbQWcD0ortWqHAlP94ug)\n",
    "*   [Github](https://github.com/datahub-ir)\n",
    "*   [Linkedin](https://www.linkedin.com/company/data-hub-ir)\n",
    "*   Telegram Channel: @**data_hub_ir**\n",
    "*   Instagram Page: @**data_hub_ir**\n",
    "*   Telegram Group:    @**data_jobs**"
   ]
  },
  {
   "cell_type": "markdown",
   "id": "0e12574a",
   "metadata": {},
   "source": [
    "<div id=\"section1\"   dir='rtl'>\n",
    "    <h3>\n",
    "تمرین جلسه اول دوره پایتون    </h3>\n",
    "<p dir='rtl'>\n",
    "    \n",
    "    1. معمولا سؤالات از آسان به سخت و اغلب تحلیلی است.  \n",
    "\n",
    "    2. در حد امکان لطفاً برای حل سؤالات از اینترنت (کپی و پیست) استفاده نکنید، لطفاً از دیگران کمک نگیرید.\n",
    "\n",
    "    3. حل ناقص یک سؤال برای ما ارزش بیشتری نسبت به تکمیل سؤال به کمک دیگران دارد. هدف یادگیری است و بحث نمره مطرح نیست.\n",
    "\n",
    "    4. مهم‌ترین قسمت حل سؤالات تمرکز و توجه به راه‌حل مسئله و پیداکردن بهینه‌ترین روش است نه قسمت کدنویسی آن.\n",
    "\n",
    "    5. انجام تکالیف ضروری است ولی فعلاً نیازی به ارسال جواب‌ها نیست. در آخر دوره کارآموزی و پس از اتمام پروژه نهایی، باید تمامی فایل‌های مربوط به تکالیف و پروژه را برایمان ارسال کنید.\n",
    "\n",
    "    6. در جلسه آنلاین به‌صورت تصادفی بعضی از سؤالات تمرین ممکن است پرسیده شود پس بادقت به حل آن بپردازید.\n",
    "\n",
    "    7. از الان تلاش کنید مرتب کدنویسی کنید. اسامی متغیرها را معنادار انتخاب کنید. تمیزی کد شما، نشان از حرفه‌ای بودن شماست.\n",
    "\n",
    "    8. تحت هیچ شرایط جواب خود را برای دیگران ارسال نکنید.\n",
    "\n",
    "    9. در صورت ناتوانی از حل هر سؤال و قبل از پرسش از دیگران، لطفاً به ویدئو همان جلسه مراجعه کنید و مطالب را مرور کنید.\n",
    "\n",
    "    10. در صورت وجود ابهام یا سؤال در مورد هر قسمت لطفاً به فروم وب‌سایت  مراجعه کنید و در انجمن مربوطه، سؤالات خود را مطرح کنید.\n",
    "    \n",
    "</p>\n",
    "</div>\n",
    "\n",
    "https://data-hub.ir/community"
   ]
  },
  {
   "cell_type": "markdown",
   "id": "e716d0fa",
   "metadata": {},
   "source": [
    "<div id=\"section1\" dir='rtl'>\n",
    "   تمرین اول: دریافت سه عدد صحیح از کاربر و سپس چاپ بزرگترین و کوچکترین عدد.\n",
    "\n",
    "    توجه: کاربر اجازه وارد کردن چیزی جز عدد را نداشته باشد\n",
    "</div>"
   ]
  },
  {
   "cell_type": "code",
   "execution_count": 1,
   "id": "325299d5",
   "metadata": {},
   "outputs": [
    {
     "name": "stdout",
     "output_type": "stream",
     "text": [
      "Please enter a number: 1\n",
      "Please enter a number: 2\n",
      "Please enter a number: 3\n",
      "[3, 2, 1]\n"
     ]
    }
   ],
   "source": [
    "def get_integer(count=1):\n",
    "    inputs = []\n",
    "    while count > 0:\n",
    "        try:\n",
    "            inputs.append(int(input('Please enter a number: ')))\n",
    "            count -=1\n",
    "        except:\n",
    "            print('Error: Enter a number only.')\n",
    "    return inputs[0] if len(inputs)==1 else inputs\n",
    "#------------\n",
    "nums = get_integer(3)\n",
    "nums.sort(reverse=True)        \n",
    "print(nums) "
   ]
  },
  {
   "cell_type": "markdown",
   "id": "2219c01f",
   "metadata": {},
   "source": [
    "    تمرین دوم: ابتدا یک عدد صحیح از کاربر دریافت کنید سپس یک لیست عدد اعشاری به طول عدد قبلی، از کاربر دریافت کنید سپس مجموع عدد فعلی و عدد قبلی را چاپ کنید.\n",
    "    \n",
    "    توجه: کاربر اجازه وارد کردن چیزی جز عدد را نداشته باشد.    "
   ]
  },
  {
   "cell_type": "code",
   "execution_count": 2,
   "id": "529c1917",
   "metadata": {},
   "outputs": [
    {
     "name": "stdout",
     "output_type": "stream",
     "text": [
      "Please enter a number: 1\n",
      "1\n",
      "Please enter a float: 2\n",
      "3.0\n"
     ]
    }
   ],
   "source": [
    "def get_float(count=1):\n",
    "    inputs = []\n",
    "    while count > 0:\n",
    "        try:\n",
    "            inputs.append(float(input('Please enter a float: ')))\n",
    "            count -=1\n",
    "        except:\n",
    "            print('Error: Enter a float number only.')\n",
    "    return inputs\n",
    "num = get_integer()\n",
    "print(num)\n",
    "floats = get_float(num)\n",
    "list_num = [num] + floats\n",
    "print(sum(list_num))"
   ]
  },
  {
   "cell_type": "markdown",
   "id": "20d3d319",
   "metadata": {},
   "source": [
    "<div id=\"section1\" dir='rtl'>\n",
    "    تمرین سوم: برنامه ای بنویسید تا یک کلمه انگلیسی را از کاربر دریافت کند و کاراکترهایی را که صدادار هستند نمایش دهد.\n",
    "    \n",
    "    توجه: باید بررسی شود که داخل کلمه، عدد نباشد.\n",
    "</div>"
   ]
  },
  {
   "cell_type": "markdown",
   "id": "4f32eed6",
   "metadata": {},
   "source": [
    "<div id=\"section1\" dir='rtl'>\n",
    " تمرین چهارم: یک تابع بنویسید که یک رشته دریافت کند وبررسی کند که آیا  کاراکتر اول و آخر یکسان هستند یا خیر. \n",
    "</div>"
   ]
  },
  {
   "cell_type": "code",
   "execution_count": 3,
   "id": "c409d4c4",
   "metadata": {},
   "outputs": [
    {
     "name": "stdout",
     "output_type": "stream",
     "text": [
      "Please enter a string: 3\n"
     ]
    },
    {
     "data": {
      "text/plain": [
       "True"
      ]
     },
     "execution_count": 3,
     "metadata": {},
     "output_type": "execute_result"
    }
   ],
   "source": [
    "def str_checking():\n",
    "    sentence = input('Please enter a string: ')\n",
    "    return True if sentence[0] == sentence[-1] else False\n",
    "str_checking()"
   ]
  },
  {
   "cell_type": "markdown",
   "id": "e72fd304",
   "metadata": {},
   "source": [
    "<div id=\"section1\" dir='rtl'>\n",
    " تمرین پنجم: یک تابع بنویسید که دو رشته دریافت کند و بررسی کند که چند بار رشته دوم در رشته اول تکرار شده است. \n",
    "</div>"
   ]
  },
  {
   "cell_type": "code",
   "execution_count": 4,
   "id": "5865eb1f",
   "metadata": {},
   "outputs": [
    {
     "data": {
      "text/plain": [
       "2"
      ]
     },
     "execution_count": 4,
     "metadata": {},
     "output_type": "execute_result"
    }
   ],
   "source": [
    "def frequent_counter(str1,str2):\n",
    "    return len(str1.split(str2))-1\n",
    "frequent_counter('hello hello world!','hello')"
   ]
  },
  {
   "cell_type": "markdown",
   "id": "48af5d8d",
   "metadata": {},
   "source": [
    "<div id=\"section1\" dir='rtl'>\n",
    " تمرین ششم: یک تابع بنویسید که یک عدد صحیح دریافت کند و بررسی کند که آیا  آن عدد با وارون خود برابر است یا خیر مثل عدد 121 \n",
    "</div>"
   ]
  },
  {
   "cell_type": "code",
   "execution_count": 5,
   "id": "6bc58d57",
   "metadata": {},
   "outputs": [
    {
     "data": {
      "text/plain": [
       "True"
      ]
     },
     "execution_count": 5,
     "metadata": {},
     "output_type": "execute_result"
    }
   ],
   "source": [
    "def reverse_compare(num):\n",
    "    return str(num)[::-1] == str(num)\n",
    "reverse_compare(121)"
   ]
  },
  {
   "cell_type": "markdown",
   "id": "bfc0f0c2",
   "metadata": {},
   "source": [
    "<div id=\"section1\" dir='rtl'>\n",
    " تمرین هفتم: برنامه ای بنویسید که خروجی زیر را تولید کند\n",
    "</div>\n",
    "\n",
    "1 \n",
    "\n",
    "2 2\n",
    "\n",
    "3 3 3 \n",
    "\n",
    "4 4 4 4 \n",
    "\n",
    "5 5 5 5 5\n",
    "\n",
    "4 4 4 4 \n",
    "\n",
    "3 3 3 \n",
    "\n",
    "2 2\n",
    "\n",
    "1"
   ]
  },
  {
   "cell_type": "code",
   "execution_count": 6,
   "id": "c8b6f9a8",
   "metadata": {},
   "outputs": [
    {
     "name": "stdout",
     "output_type": "stream",
     "text": [
      "\n",
      "1 \n",
      "2 2 \n",
      "3 3 3 \n",
      "4 4 4 4 \n",
      "5 5 5 5 5 \n",
      "4 4 4 4 \n",
      "3 3 3 \n",
      "2 2 \n",
      "1 \n"
     ]
    }
   ],
   "source": [
    "for i in range(5):\n",
    "    for j in range(i):\n",
    "        print(i,end=' ')\n",
    "    print()  \n",
    "for i in range(5,0,-1):\n",
    "    for j in range(i):\n",
    "        print(i,end=' ')\n",
    "    print()      "
   ]
  },
  {
   "cell_type": "markdown",
   "id": "6bc9367f",
   "metadata": {},
   "source": [
    "<div id=\"section1\" dir='rtl'>\n",
    " تمرین هشتم: برنامه ای بنویسید که خروجی زیر را تولید کند.\n",
    "</div>"
   ]
  },
  {
   "cell_type": "raw",
   "id": "766625aa",
   "metadata": {},
   "source": [
    "    *\n",
    "  * # \n",
    "* # $ # *\n",
    "    # *\n",
    "    *"
   ]
  },
  {
   "cell_type": "code",
   "execution_count": 7,
   "id": "395d8bdf",
   "metadata": {},
   "outputs": [
    {
     "name": "stdout",
     "output_type": "stream",
     "text": [
      "    *    \n",
      "  * #    \n",
      "* # $ # *\n",
      "    # *  \n",
      "    *    \n"
     ]
    }
   ],
   "source": [
    "print('    *    ')\n",
    "print('  * #    ')\n",
    "print('* # $ # *')\n",
    "print('    # *  ')\n",
    "print('    *    ')"
   ]
  },
  {
   "cell_type": "markdown",
   "id": "6bab36dd",
   "metadata": {},
   "source": [
    "<div id=\"section1\" dir='rtl'>\n",
    " تمرین نهم: تابعی بنویسید که یک عدد دهدهی بگیرد و مبنای سه آن را نمایش دهد.\n",
    "        مثل دریافت عدد 12 و نمایش 110\n",
    "</div>"
   ]
  },
  {
   "cell_type": "code",
   "execution_count": 8,
   "id": "27d40cb3",
   "metadata": {},
   "outputs": [
    {
     "data": {
      "text/plain": [
       "110"
      ]
     },
     "execution_count": 8,
     "metadata": {},
     "output_type": "execute_result"
    }
   ],
   "source": [
    "def convertToMabna3(num):\n",
    "    result=\"\"\n",
    "    while True:\n",
    "        if num == 0:\n",
    "            break\n",
    "        result+=str(num%3)\n",
    "        num = num//3\n",
    "    return int(result[::-1])\n",
    "convertToMabna3(12)"
   ]
  },
  {
   "cell_type": "markdown",
   "id": "d56e5d50",
   "metadata": {},
   "source": [
    "<div id=\"section1\" dir='rtl'>\n",
    " تمرین دهم: تابعی بنویسید که سه رقم غیرتکراری از کاربر گرفته و تمامی اعداد زوج و غیرتکراری 5 رقمی\n",
    "        .که با سه رقم دریافت شده می توان ساخت را نمایش دهد\n",
    "</div>"
   ]
  },
  {
   "cell_type": "code",
   "execution_count": 9,
   "id": "345b6de9",
   "metadata": {},
   "outputs": [
    {
     "name": "stdout",
     "output_type": "stream",
     "text": [
      "Please enter a number: 1\n",
      "Please enter a number: 8\n",
      "Please enter a number: 6\n"
     ]
    }
   ],
   "source": [
    "nums=[]\n",
    "while True:\n",
    "    nums = get_integer(3)\n",
    "    if len(set(nums)) == 3 and all((item>=0 and item<=9) for item in nums ):\n",
    "        break\n",
    "    else:\n",
    "        print(\"please enter 3 unique numbers and less than 10!\")\n"
   ]
  },
  {
   "cell_type": "code",
   "execution_count": 10,
   "id": "f26ab08c",
   "metadata": {},
   "outputs": [
    {
     "name": "stdout",
     "output_type": "stream",
     "text": [
      "11118\n",
      "11116\n",
      "11188\n",
      "11186\n",
      "11168\n",
      "11166\n",
      "11818\n",
      "11816\n",
      "11888\n",
      "11886\n",
      "11868\n",
      "11866\n",
      "11618\n",
      "11616\n",
      "11688\n",
      "11686\n",
      "11668\n",
      "11666\n",
      "18118\n",
      "18116\n",
      "18188\n",
      "18186\n",
      "18168\n",
      "18166\n",
      "18818\n",
      "18816\n",
      "18888\n",
      "18886\n",
      "18868\n",
      "18866\n",
      "18618\n",
      "18616\n",
      "18688\n",
      "18686\n",
      "18668\n",
      "18666\n",
      "16118\n",
      "16116\n",
      "16188\n",
      "16186\n",
      "16168\n",
      "16166\n",
      "16818\n",
      "16816\n",
      "16888\n",
      "16886\n",
      "16868\n",
      "16866\n",
      "16618\n",
      "16616\n",
      "16688\n",
      "16686\n",
      "16668\n",
      "16666\n",
      "81118\n",
      "81116\n",
      "81188\n",
      "81186\n",
      "81168\n",
      "81166\n",
      "81818\n",
      "81816\n",
      "81888\n",
      "81886\n",
      "81868\n",
      "81866\n",
      "81618\n",
      "81616\n",
      "81688\n",
      "81686\n",
      "81668\n",
      "81666\n",
      "88118\n",
      "88116\n",
      "88188\n",
      "88186\n",
      "88168\n",
      "88166\n",
      "88818\n",
      "88816\n",
      "88888\n",
      "88886\n",
      "88868\n",
      "88866\n",
      "88618\n",
      "88616\n",
      "88688\n",
      "88686\n",
      "88668\n",
      "88666\n",
      "86118\n",
      "86116\n",
      "86188\n",
      "86186\n",
      "86168\n",
      "86166\n",
      "86818\n",
      "86816\n",
      "86888\n",
      "86886\n",
      "86868\n",
      "86866\n",
      "86618\n",
      "86616\n",
      "86688\n",
      "86686\n",
      "86668\n",
      "86666\n",
      "61118\n",
      "61116\n",
      "61188\n",
      "61186\n",
      "61168\n",
      "61166\n",
      "61818\n",
      "61816\n",
      "61888\n",
      "61886\n",
      "61868\n",
      "61866\n",
      "61618\n",
      "61616\n",
      "61688\n",
      "61686\n",
      "61668\n",
      "61666\n",
      "68118\n",
      "68116\n",
      "68188\n",
      "68186\n",
      "68168\n",
      "68166\n",
      "68818\n",
      "68816\n",
      "68888\n",
      "68886\n",
      "68868\n",
      "68866\n",
      "68618\n",
      "68616\n",
      "68688\n",
      "68686\n",
      "68668\n",
      "68666\n",
      "66118\n",
      "66116\n",
      "66188\n",
      "66186\n",
      "66168\n",
      "66166\n",
      "66818\n",
      "66816\n",
      "66888\n",
      "66886\n",
      "66868\n",
      "66866\n",
      "66618\n",
      "66616\n",
      "66688\n",
      "66686\n",
      "66668\n",
      "66666\n"
     ]
    }
   ],
   "source": [
    "for a in nums:\n",
    "    for b in nums:\n",
    "        for c in nums:\n",
    "            for d in nums:\n",
    "                for e in nums:\n",
    "                    if e%2==0:\n",
    "                        print(str(a)+str(b)+str(c)+str(d)+str(e))\n",
    "                    "
   ]
  },
  {
   "cell_type": "code",
   "execution_count": null,
   "id": "92ba5e4f",
   "metadata": {},
   "outputs": [],
   "source": []
  }
 ],
 "metadata": {
  "kernelspec": {
   "display_name": "Python 3",
   "language": "python",
   "name": "python3"
  },
  "language_info": {
   "codemirror_mode": {
    "name": "ipython",
    "version": 3
   },
   "file_extension": ".py",
   "mimetype": "text/x-python",
   "name": "python",
   "nbconvert_exporter": "python",
   "pygments_lexer": "ipython3",
   "version": "3.8.8"
  }
 },
 "nbformat": 4,
 "nbformat_minor": 5
}
